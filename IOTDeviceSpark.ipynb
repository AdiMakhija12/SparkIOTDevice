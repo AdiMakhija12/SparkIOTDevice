{
  "nbformat": 4,
  "nbformat_minor": 0,
  "metadata": {
    "colab": {
      "provenance": []
    },
    "kernelspec": {
      "name": "python3",
      "display_name": "Python 3"
    },
    "language_info": {
      "name": "python"
    }
  },
  "cells": [
    {
      "cell_type": "code",
      "source": [
        "!apt-get update # Update apt-get repository.\n",
        "!apt-get install openjdk-8-jdk-headless -qq > /dev/null # Install Java.\n",
        "!wget -q http://archive.apache.org/dist/spark/spark-3.1.1/spark-3.1.1-bin-hadoop3.2.tgz # Download Apache Sparks.\n",
        "!tar xf spark-3.1.1-bin-hadoop3.2.tgz # Unzip the tgz file.\n",
        "!pip install -q findspark # Install findspark. Adds PySpark to the System path during runtime.\n",
        "\n",
        "# Set environment variables\n",
        "import os\n",
        "os.environ[\"JAVA_HOME\"] = \"/usr/lib/jvm/java-8-openjdk-amd64\"\n",
        "os.environ[\"SPARK_HOME\"] = \"/content/spark-3.1.1-bin-hadoop3.2\"\n",
        "\n",
        "!ls\n",
        "\n",
        "# Initialize findspark\n",
        "import findspark\n",
        "findspark.init()\n",
        "\n",
        "# Create a PySpark session\n",
        "from pyspark.sql import SparkSession\n",
        "spark = SparkSession.builder.master(\"local[*]\").getOrCreate()\n",
        "spark"
      ],
      "metadata": {
        "colab": {
          "base_uri": "https://localhost:8080/",
          "height": 453
        },
        "id": "yaODNOJSAXA_",
        "outputId": "cbfd2ab2-168a-4c92-f693-1ba1fc92699f"
      },
      "execution_count": null,
      "outputs": [
        {
          "output_type": "stream",
          "name": "stdout",
          "text": [
            "\r0% [Working]\r            \rHit:1 https://developer.download.nvidia.com/compute/cuda/repos/ubuntu2204/x86_64  InRelease\n",
            "\r0% [Connecting to archive.ubuntu.com (185.125.190.36)] [Waiting for headers] [Waiting for headers] [\r                                                                                                    \rHit:2 https://cloud.r-project.org/bin/linux/ubuntu jammy-cran40/ InRelease\n",
            "\r0% [Connecting to archive.ubuntu.com (185.125.190.36)] [Waiting for headers] [Connected to ppa.launc\r0% [Waiting for headers] [Waiting for headers] [Connected to ppa.launchpadcontent.net (185.125.190.8\r                                                                                                    \rHit:3 http://security.ubuntu.com/ubuntu jammy-security InRelease\n",
            "Hit:4 http://archive.ubuntu.com/ubuntu jammy InRelease\n",
            "Hit:5 http://archive.ubuntu.com/ubuntu jammy-updates InRelease\n",
            "Hit:6 http://archive.ubuntu.com/ubuntu jammy-backports InRelease\n",
            "Hit:7 https://ppa.launchpadcontent.net/c2d4u.team/c2d4u4.0+/ubuntu jammy InRelease\n",
            "Hit:8 https://ppa.launchpadcontent.net/deadsnakes/ppa/ubuntu jammy InRelease\n",
            "Hit:9 https://ppa.launchpadcontent.net/graphics-drivers/ppa/ubuntu jammy InRelease\n",
            "Hit:10 https://ppa.launchpadcontent.net/ubuntugis/ppa/ubuntu jammy InRelease\n",
            "Reading package lists... Done\n",
            "iot_devices.json  spark-3.1.1-bin-hadoop3.2\t spark-3.1.1-bin-hadoop3.2.tgz.1\n",
            "sample_data\t  spark-3.1.1-bin-hadoop3.2.tgz  spark-3.1.1-bin-hadoop3.2.tgz.2\n"
          ]
        },
        {
          "output_type": "execute_result",
          "data": {
            "text/plain": [
              "<pyspark.sql.session.SparkSession at 0x7ade840a6ce0>"
            ],
            "text/html": [
              "\n",
              "            <div>\n",
              "                <p><b>SparkSession - in-memory</b></p>\n",
              "                \n",
              "        <div>\n",
              "            <p><b>SparkContext</b></p>\n",
              "\n",
              "            <p><a href=\"http://a010fc0cdf5f:4040\">Spark UI</a></p>\n",
              "\n",
              "            <dl>\n",
              "              <dt>Version</dt>\n",
              "                <dd><code>v3.1.1</code></dd>\n",
              "              <dt>Master</dt>\n",
              "                <dd><code>local[*]</code></dd>\n",
              "              <dt>AppName</dt>\n",
              "                <dd><code>pyspark-shell</code></dd>\n",
              "            </dl>\n",
              "        </div>\n",
              "        \n",
              "            </div>\n",
              "        "
            ]
          },
          "metadata": {},
          "execution_count": 26
        }
      ]
    },
    {
      "cell_type": "code",
      "source": [
        "from pyspark.sql import SparkSession\n",
        "from pyspark.sql.functions import col, desc"
      ],
      "metadata": {
        "id": "Ldz1wNNu_QSN"
      },
      "execution_count": null,
      "outputs": []
    },
    {
      "cell_type": "code",
      "source": [
        "# Create a Spark session\n",
        "spark = SparkSession.builder.appName(\"IoT Data Analysis\").getOrCreate()"
      ],
      "metadata": {
        "id": "1BAj0cEp_U1k"
      },
      "execution_count": null,
      "outputs": []
    },
    {
      "cell_type": "code",
      "source": [
        "# Load the JSON data into a DataFrame\n",
        "iot_df = spark.read.json(\"/content/iot_devices.json\")\n"
      ],
      "metadata": {
        "id": "GhSNZmSz_VDY"
      },
      "execution_count": null,
      "outputs": []
    },
    {
      "cell_type": "code",
      "source": [
        "# Create a temporary view called 'iot'\n",
        "iot_df.createOrReplaceTempView(\"iot\")"
      ],
      "metadata": {
        "id": "c77-Uyhk_VOk"
      },
      "execution_count": null,
      "outputs": []
    },
    {
      "cell_type": "code",
      "source": [
        "# Task 1: Count how many devices are there from each country and display the output\n",
        "devices_per_country = spark.sql(\"\"\"\n",
        "    SELECT Cn AS Country, COUNT(Device_ID) AS Device_Count\n",
        "    FROM iot\n",
        "    GROUP BY Cn\n",
        "    ORDER BY Device_Count DESC\n",
        "\"\"\")\n",
        "devices_per_country.show()"
      ],
      "metadata": {
        "colab": {
          "base_uri": "https://localhost:8080/"
        },
        "id": "hEwpi_jC_aTk",
        "outputId": "4a696202-127c-4072-8d39-e54fb1a76bef"
      },
      "execution_count": null,
      "outputs": [
        {
          "output_type": "stream",
          "name": "stdout",
          "text": [
            "+-----------------+------------+\n",
            "|          Country|Device_Count|\n",
            "+-----------------+------------+\n",
            "|    United States|        4559|\n",
            "|            China|         964|\n",
            "|            Japan|         806|\n",
            "|Republic of Korea|         782|\n",
            "|          Germany|         561|\n",
            "|   United Kingdom|         480|\n",
            "|           Canada|         429|\n",
            "|           Russia|         408|\n",
            "|           France|         378|\n",
            "|           Brazil|         249|\n",
            "|            Italy|         210|\n",
            "|        Australia|         208|\n",
            "|           Sweden|         197|\n",
            "|      Netherlands|         159|\n",
            "|           Poland|         154|\n",
            "|            Spain|         149|\n",
            "|           Taiwan|         145|\n",
            "|            India|         139|\n",
            "|          Austria|         139|\n",
            "|                 |         128|\n",
            "+-----------------+------------+\n",
            "only showing top 20 rows\n",
            "\n"
          ]
        }
      ]
    },
    {
      "cell_type": "code",
      "source": [
        "# Check the schema of the DataFrame\n",
        "iot_df.printSchema()\n"
      ],
      "metadata": {
        "colab": {
          "base_uri": "https://localhost:8080/"
        },
        "id": "ucej6bomBJQ0",
        "outputId": "47febd5f-6ca9-436d-d527-0de362088ef1"
      },
      "execution_count": null,
      "outputs": [
        {
          "output_type": "stream",
          "name": "stdout",
          "text": [
            "root\n",
            " |-- _corrupt_record: string (nullable = true)\n",
            " |-- battery_level: long (nullable = true)\n",
            " |-- c02_level: long (nullable = true)\n",
            " |-- cca2: string (nullable = true)\n",
            " |-- cca3: string (nullable = true)\n",
            " |-- cn: string (nullable = true)\n",
            " |-- device_id: long (nullable = true)\n",
            " |-- device_name: string (nullable = true)\n",
            " |-- humidity: long (nullable = true)\n",
            " |-- ip: string (nullable = true)\n",
            " |-- latitude: double (nullable = true)\n",
            " |-- lcd: string (nullable = true)\n",
            " |-- longitude: double (nullable = true)\n",
            " |-- scale: string (nullable = true)\n",
            " |-- temp: long (nullable = true)\n",
            " |-- timestamp: long (nullable = true)\n",
            "\n"
          ]
        }
      ]
    },
    {
      "cell_type": "code",
      "source": [
        "# Task 2: Display all the countries whose carbon dioxide level is more than 1400. Sort the output in descending order.\n",
        "high_co2_countries = spark.sql(\"\"\"\n",
        "    SELECT Country\n",
        "    FROM (\n",
        "        SELECT DISTINCT cn AS Country, c02_level\n",
        "        FROM iot\n",
        "        WHERE c02_level > 1400\n",
        "        ORDER BY c02_level DESC\n",
        "    )\n",
        "\"\"\")\n",
        "high_co2_countries.show()\n"
      ],
      "metadata": {
        "colab": {
          "base_uri": "https://localhost:8080/"
        },
        "id": "rNUXcPAc_adv",
        "outputId": "0f249a7b-1ba8-4a48-a06a-f2ff84a038b3"
      },
      "execution_count": null,
      "outputs": [
        {
          "output_type": "stream",
          "name": "stdout",
          "text": [
            "+-----------------+\n",
            "|          Country|\n",
            "+-----------------+\n",
            "|   Czech Republic|\n",
            "|           Sweden|\n",
            "|    United States|\n",
            "|        Australia|\n",
            "|            Japan|\n",
            "|           France|\n",
            "|Republic of Korea|\n",
            "|           Canada|\n",
            "|      Philippines|\n",
            "|          Germany|\n",
            "|    United States|\n",
            "|            Japan|\n",
            "|           Brazil|\n",
            "|            China|\n",
            "|          Romania|\n",
            "|Republic of Korea|\n",
            "|    United States|\n",
            "|           Taiwan|\n",
            "|           Canada|\n",
            "|      Philippines|\n",
            "+-----------------+\n",
            "only showing top 20 rows\n",
            "\n"
          ]
        }
      ]
    },
    {
      "cell_type": "code",
      "source": [
        "# Task 3: Select all countries' devices with high levels of CO2 and group by cca3 and order by device_ids\n",
        "# (For high CO2 level, the LCD status will be RED)\n",
        "high_co2_devices = spark.sql(\"\"\"\n",
        "    SELECT cca3, COUNT(device_id) AS Device_Count\n",
        "    FROM iot\n",
        "    WHERE lcd = 'red'\n",
        "    GROUP BY cca3\n",
        "    ORDER BY Device_Count DESC\n",
        "\"\"\")\n",
        "high_co2_devices.show()"
      ],
      "metadata": {
        "colab": {
          "base_uri": "https://localhost:8080/"
        },
        "id": "zjc1e1Qd_ali",
        "outputId": "42a0f79f-0934-4743-d31a-9650da320894"
      },
      "execution_count": null,
      "outputs": [
        {
          "output_type": "stream",
          "name": "stdout",
          "text": [
            "+----+------------+\n",
            "|cca3|Device_Count|\n",
            "+----+------------+\n",
            "| USA|        1212|\n",
            "| CHN|         247|\n",
            "| JPN|         224|\n",
            "| KOR|         206|\n",
            "| DEU|         157|\n",
            "| CAN|         118|\n",
            "| RUS|         109|\n",
            "| FRA|         105|\n",
            "| GBR|         105|\n",
            "| BRA|          73|\n",
            "| AUS|          61|\n",
            "| ITA|          44|\n",
            "| SWE|          44|\n",
            "| NLD|          41|\n",
            "| ESP|          40|\n",
            "| POL|          35|\n",
            "| IND|          34|\n",
            "| TWN|          33|\n",
            "| AUT|          33|\n",
            "| SGP|          30|\n",
            "+----+------------+\n",
            "only showing top 20 rows\n",
            "\n"
          ]
        }
      ]
    },
    {
      "cell_type": "code",
      "execution_count": null,
      "metadata": {
        "id": "jSoO5ZXeu6BV",
        "colab": {
          "base_uri": "https://localhost:8080/"
        },
        "outputId": "0ea045a9-d117-4836-f79c-67be07abdb97"
      },
      "outputs": [
        {
          "output_type": "stream",
          "name": "stdout",
          "text": [
            "+---------------+-------------+---------+----+----+-------------+---------+--------------------+--------+---------------+--------+------+---------+-------+----+-------------+\n",
            "|_corrupt_record|battery_level|c02_level|cca2|cca3|           cn|device_id|         device_name|humidity|             ip|latitude|   lcd|longitude|  scale|temp|    timestamp|\n",
            "+---------------+-------------+---------+----+----+-------------+---------+--------------------+--------+---------------+--------+------+---------+-------+----+-------------+\n",
            "|           null|            8|      868|  US| USA|United States|        1|meter-gauge-1xbYRYcj|      51|   68.161.225.1|    38.0| green|    -97.0|Celsius|  34|1458444054093|\n",
            "|           null|            7|     1473|  NO| NOR|       Norway|        2|   sensor-pad-2n2Pea|      70|  213.161.254.1|   62.47|   red|     6.15|Celsius|  11|1458444054119|\n",
            "|           null|            2|     1556|  IT| ITA|        Italy|        3| device-mac-36TWSKiT|      44|      88.36.5.1|   42.83|   red|    12.83|Celsius|  19|1458444054120|\n",
            "|           null|            6|     1080|  US| USA|United States|        4|   sensor-pad-4mzWkz|      32|  66.39.173.154|   44.06|yellow|  -121.32|Celsius|  28|1458444054121|\n",
            "|           null|            4|      931|  PH| PHL|  Philippines|        5|therm-stick-5gimp...|      62|    203.82.41.9|   14.58| green|   120.97|Celsius|  25|1458444054122|\n",
            "|           null|            3|     1210|  US| USA|United States|        6|sensor-pad-6al7RT...|      51| 204.116.105.67|   35.93|yellow|   -85.46|Celsius|  27|1458444054122|\n",
            "|           null|            3|     1129|  CN| CHN|        China|        7|meter-gauge-7GeDoanM|      26|  220.173.179.1|   22.82|yellow|   108.32|Celsius|  18|1458444054123|\n",
            "|           null|            0|     1536|  JP| JPN|        Japan|        8|sensor-pad-8xUD6p...|      35|  210.173.177.1|   35.69|   red|   139.69|Celsius|  27|1458444054123|\n",
            "|           null|            3|      807|  JP| JPN|        Japan|        9| device-mac-9GcjZ2pw|      85|  118.23.68.227|   35.69| green|   139.69|Celsius|  13|1458444054124|\n",
            "|           null|            7|     1470|  US| USA|United States|       10|sensor-pad-10Bsyw...|      56|208.109.163.218|   33.61|   red|  -111.89|Celsius|  26|1458444054125|\n",
            "|           null|            3|     1544|  IT| ITA|        Italy|       11|meter-gauge-11dlM...|      85|  88.213.191.34|   42.83|   red|    12.83|Celsius|  16|1458444054125|\n",
            "|           null|            0|     1260|  US| USA|United States|       12|sensor-pad-12Y2kIm0o|      92|    68.28.91.22|    38.0|yellow|    -97.0|Celsius|  12|1458444054126|\n",
            "|           null|            6|     1007|  IN| IND|        India|       13|meter-gauge-13Gro...|      92| 59.144.114.250|    28.6|yellow|     77.2|Celsius|  13|1458444054127|\n",
            "|           null|            1|     1346|  NO| NOR|       Norway|       14|sensor-pad-14QL93...|      90| 193.156.90.200|   59.95|yellow|    10.75|Celsius|  16|1458444054127|\n",
            "|           null|            9|     1259|  US| USA|United States|       15|  device-mac-15se6mZ|      70|    67.185.72.1|   47.41|yellow|   -122.0|Celsius|  13|1458444054128|\n",
            "|           null|            4|     1425|  US| USA|United States|       16|sensor-pad-16aXmI...|      53|   68.85.85.106|    38.0|   red|    -97.0|Celsius|  15|1458444054128|\n",
            "|           null|            0|     1466|  US| USA|United States|       17|meter-gauge-17zb8...|      98|161.188.212.254|   39.95|   red|   -75.16|Celsius|  31|1458444054129|\n",
            "|           null|            4|     1096|  CN| CHN|        China|       18|sensor-pad-18XULN9Xv|      25|  221.3.128.242|   25.04|yellow|   102.72|Celsius|  31|1458444054130|\n",
            "|           null|            9|     1531|  US| USA|United States|       19|meter-gauge-19eg1...|      75| 64.124.180.215|    38.0|   red|    -97.0|Celsius|  29|1458444054130|\n",
            "|           null|            7|     1155|  US| USA|United States|       20|sensor-pad-20gFNf...|      33|  66.153.162.66|   33.94|yellow|   -78.92|Celsius|  10|1458444054131|\n",
            "+---------------+-------------+---------+----+----+-------------+---------+--------------------+--------+---------------+--------+------+---------+-------+----+-------------+\n",
            "only showing top 20 rows\n",
            "\n"
          ]
        }
      ],
      "source": [
        "# Task 4: Find out all devices in countries whose batteries need replacements\n",
        "# Assuming \"batteries need replacements\" means Battery Level is less than a certain threshold, e.g., 20%\n",
        "low_battery_devices = spark.sql(\"\"\"\n",
        "    SELECT *\n",
        "    FROM iot\n",
        "    WHERE Battery_Level < 20\n",
        "\"\"\")\n",
        "low_battery_devices.show()\n"
      ]
    },
    {
      "cell_type": "code",
      "source": [],
      "metadata": {
        "id": "UJ5fSCsYDFuj"
      },
      "execution_count": null,
      "outputs": []
    }
  ]
}